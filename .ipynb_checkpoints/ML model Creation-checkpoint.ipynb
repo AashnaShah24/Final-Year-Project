{
 "cells": [
  {
   "cell_type": "code",
   "execution_count": 188,
   "id": "271af8e6",
   "metadata": {},
   "outputs": [
    {
     "ename": "ImportError",
     "evalue": "DLL load failed while importing defs: The specified procedure could not be found.",
     "output_type": "error",
     "traceback": [
      "\u001b[1;31m---------------------------------------------------------------------------\u001b[0m",
      "\u001b[1;31mImportError\u001b[0m                               Traceback (most recent call last)",
      "Input \u001b[1;32mIn [188]\u001b[0m, in \u001b[0;36m<cell line: 26>\u001b[1;34m()\u001b[0m\n\u001b[0;32m     24\u001b[0m \u001b[38;5;66;03m# from google.colab.patches import cv2_imshow\u001b[39;00m\n\u001b[0;32m     25\u001b[0m \u001b[38;5;28;01mimport\u001b[39;00m \u001b[38;5;21;01mos\u001b[39;00m\n\u001b[1;32m---> 26\u001b[0m \u001b[38;5;28;01mimport\u001b[39;00m \u001b[38;5;21;01mh5py\u001b[39;00m\n\u001b[0;32m     28\u001b[0m \u001b[38;5;28;01mimport\u001b[39;00m \u001b[38;5;21;01mcv2\u001b[39;00m\n",
      "File \u001b[1;32mC:\\ProgramData\\Anaconda3\\envs\\tf\\lib\\site-packages\\h5py\\__init__.py:33\u001b[0m, in \u001b[0;36m<module>\u001b[1;34m\u001b[0m\n\u001b[0;32m     30\u001b[0m     \u001b[38;5;28;01melse\u001b[39;00m:\n\u001b[0;32m     31\u001b[0m         \u001b[38;5;28;01mraise\u001b[39;00m\n\u001b[1;32m---> 33\u001b[0m \u001b[38;5;28;01mfrom\u001b[39;00m \u001b[38;5;21;01m.\u001b[39;00m \u001b[38;5;28;01mimport\u001b[39;00m version\n\u001b[0;32m     35\u001b[0m \u001b[38;5;28;01mif\u001b[39;00m version\u001b[38;5;241m.\u001b[39mhdf5_version_tuple \u001b[38;5;241m!=\u001b[39m version\u001b[38;5;241m.\u001b[39mhdf5_built_version_tuple:\n\u001b[0;32m     36\u001b[0m     _warn((\u001b[38;5;124m\"\u001b[39m\u001b[38;5;124mh5py is running against HDF5 \u001b[39m\u001b[38;5;132;01m{0}\u001b[39;00m\u001b[38;5;124m when it was built against \u001b[39m\u001b[38;5;132;01m{1}\u001b[39;00m\u001b[38;5;124m, \u001b[39m\u001b[38;5;124m\"\u001b[39m\n\u001b[0;32m     37\u001b[0m            \u001b[38;5;124m\"\u001b[39m\u001b[38;5;124mthis may cause problems\u001b[39m\u001b[38;5;124m\"\u001b[39m)\u001b[38;5;241m.\u001b[39mformat(\n\u001b[0;32m     38\u001b[0m             \u001b[38;5;124m'\u001b[39m\u001b[38;5;132;01m{0}\u001b[39;00m\u001b[38;5;124m.\u001b[39m\u001b[38;5;132;01m{1}\u001b[39;00m\u001b[38;5;124m.\u001b[39m\u001b[38;5;132;01m{2}\u001b[39;00m\u001b[38;5;124m'\u001b[39m\u001b[38;5;241m.\u001b[39mformat(\u001b[38;5;241m*\u001b[39mversion\u001b[38;5;241m.\u001b[39mhdf5_version_tuple),\n\u001b[0;32m     39\u001b[0m             \u001b[38;5;124m'\u001b[39m\u001b[38;5;132;01m{0}\u001b[39;00m\u001b[38;5;124m.\u001b[39m\u001b[38;5;132;01m{1}\u001b[39;00m\u001b[38;5;124m.\u001b[39m\u001b[38;5;132;01m{2}\u001b[39;00m\u001b[38;5;124m'\u001b[39m\u001b[38;5;241m.\u001b[39mformat(\u001b[38;5;241m*\u001b[39mversion\u001b[38;5;241m.\u001b[39mhdf5_built_version_tuple)\n\u001b[0;32m     40\u001b[0m     ))\n",
      "File \u001b[1;32mC:\\ProgramData\\Anaconda3\\envs\\tf\\lib\\site-packages\\h5py\\version.py:15\u001b[0m, in \u001b[0;36m<module>\u001b[1;34m\u001b[0m\n\u001b[0;32m     10\u001b[0m \u001b[38;5;124;03m\"\"\"\u001b[39;00m\n\u001b[0;32m     11\u001b[0m \u001b[38;5;124;03m    Versioning module for h5py.\u001b[39;00m\n\u001b[0;32m     12\u001b[0m \u001b[38;5;124;03m\"\"\"\u001b[39;00m\n\u001b[0;32m     14\u001b[0m \u001b[38;5;28;01mfrom\u001b[39;00m \u001b[38;5;21;01mcollections\u001b[39;00m \u001b[38;5;28;01mimport\u001b[39;00m namedtuple\n\u001b[1;32m---> 15\u001b[0m \u001b[38;5;28;01mfrom\u001b[39;00m \u001b[38;5;21;01m.\u001b[39;00m \u001b[38;5;28;01mimport\u001b[39;00m h5 \u001b[38;5;28;01mas\u001b[39;00m _h5\n\u001b[0;32m     16\u001b[0m \u001b[38;5;28;01mimport\u001b[39;00m \u001b[38;5;21;01msys\u001b[39;00m\n\u001b[0;32m     17\u001b[0m \u001b[38;5;28;01mimport\u001b[39;00m \u001b[38;5;21;01mnumpy\u001b[39;00m\n",
      "File \u001b[1;32mh5py\\h5.pyx:1\u001b[0m, in \u001b[0;36minit h5py.h5\u001b[1;34m()\u001b[0m\n",
      "\u001b[1;31mImportError\u001b[0m: DLL load failed while importing defs: The specified procedure could not be found."
     ]
    }
   ],
   "source": [
    "import keras\n",
    "from keras.models import Sequential\n",
    "from keras.layers import Conv2D, MaxPooling2D, Dense, Flatten, Dropout\n",
    "from tensorflow.keras.optimizers import Adam\n",
    "from keras.callbacks import TensorBoard\n",
    "from tensorflow.keras.utils import to_categorical\n",
    "import tensorflow as tf\n",
    "\n",
    "import numpy as np\n",
    "import pandas as pd\n",
    "import matplotlib.pyplot as plt\n",
    "\n",
    "from sklearn.model_selection import train_test_split\n",
    "\n",
    "from sklearn.metrics import confusion_matrix\n",
    "from sklearn.metrics import classification_report\n",
    "from sklearn.metrics import roc_curve, auc\n",
    "from sklearn.metrics import accuracy_score\n",
    "from keras.utils import np_utils\n",
    "import itertools\n",
    "\n",
    "from PIL import Image\n",
    "import numpy as np\n",
    "# from google.colab.patches import cv2_imshow\n",
    "import os\n",
    "import h5py\n",
    "\n",
    "import cv2"
   ]
  },
  {
   "cell_type": "code",
   "execution_count": 153,
   "id": "a6bc5d2c",
   "metadata": {},
   "outputs": [
    {
     "name": "stdout",
     "output_type": "stream",
     "text": [
      "['0', '0', '0', '0', '0', '0', '0', '0', '0', '1', '1', '1', '1', '1', '1', '2', '2', '2', '2', '2', '2']\n"
     ]
    }
   ],
   "source": [
    "data=[]\n",
    "labels=[]\n",
    "path='DataSet'\n",
    "# filename=os.listdir(\"DataSet\")\n",
    "for fileName in os.listdir(path):\n",
    "    f = os.path.join(path, fileName)\n",
    "    images = os.listdir(f)\n",
    "    for i in images:\n",
    "#     image=Image.open('0/'+i).convert('L')\n",
    "        image=Image.open(f+'/'+ i)\n",
    "        image=image.resize((256,256))\n",
    "        image=np.array(image)\n",
    "        data.append(image)\n",
    "        labels.append(fileName)\n",
    "print(labels)"
   ]
  },
  {
   "cell_type": "code",
   "execution_count": 154,
   "id": "877c7c7b",
   "metadata": {},
   "outputs": [
    {
     "name": "stdout",
     "output_type": "stream",
     "text": [
      "(256, 256, 3)\n"
     ]
    }
   ],
   "source": [
    "#Converting lists into numpy arrays\n",
    "data = np.array(data)\n",
    "labels = np.array(labels)\n",
    "print(data[0].shape)"
   ]
  },
  {
   "cell_type": "code",
   "execution_count": 155,
   "id": "c6de8efd",
   "metadata": {},
   "outputs": [
    {
     "name": "stderr",
     "output_type": "stream",
     "text": [
      "C:\\Users\\Vaish_2\\AppData\\Local\\Temp\\ipykernel_19052\\1136154699.py:1: DeprecationWarning: `np.int` is a deprecated alias for the builtin `int`. To silence this warning, use `int` by itself. Doing this will not modify any behavior and is safe. When replacing `np.int`, you may wish to use e.g. `np.int64` or `np.int32` to specify the precision. If you wish to review your current use, check the release note link for additional information.\n",
      "Deprecated in NumPy 1.20; for more details and guidance: https://numpy.org/devdocs/release/1.20.0-notes.html#deprecations\n",
      "  labels = labels.astype(np.int)\n"
     ]
    }
   ],
   "source": [
    "labels = labels.astype(np.int)"
   ]
  },
  {
   "cell_type": "code",
   "execution_count": 156,
   "id": "6f38bff9",
   "metadata": {},
   "outputs": [],
   "source": [
    "data = np.array(data,dtype='float32')/255"
   ]
  },
  {
   "cell_type": "code",
   "execution_count": 157,
   "id": "2e927117",
   "metadata": {},
   "outputs": [
    {
     "name": "stdout",
     "output_type": "stream",
     "text": [
      "[0 0 0 0 0 0 0 0 0 1 1 1 1 1 1 2 2 2 2 2 2]\n"
     ]
    }
   ],
   "source": [
    "print(labels)"
   ]
  },
  {
   "cell_type": "code",
   "execution_count": 160,
   "id": "9d09a943",
   "metadata": {},
   "outputs": [],
   "source": [
    "X_train, x_test, y_train, y_test = train_test_split(data, labels, test_size=0.2, random_state=42)"
   ]
  },
  {
   "cell_type": "code",
   "execution_count": 159,
   "id": "a58c7e24",
   "metadata": {},
   "outputs": [
    {
     "name": "stdout",
     "output_type": "stream",
     "text": [
      "0\n",
      "0\n",
      "0\n",
      "0\n",
      "0\n"
     ]
    }
   ],
   "source": [
    "for a in y_test:\n",
    "  print(np.argmax(a))"
   ]
  },
  {
   "cell_type": "code",
   "execution_count": 161,
   "id": "76f351f5",
   "metadata": {},
   "outputs": [],
   "source": [
    "x_train, x_valid, y_train, y_valid= train_test_split(\n",
    "    X_train, y_train, test_size=.05, random_state=1234,)"
   ]
  },
  {
   "cell_type": "code",
   "execution_count": 162,
   "id": "371928f3",
   "metadata": {},
   "outputs": [],
   "source": [
    "#to_categorical Converts a class vector (integers) to binary class matrix.\n",
    "y_train = to_categorical(y_train,3)\n",
    "y_valid = to_categorical(y_valid,3)\n",
    "y_test = to_categorical(y_test,3)"
   ]
  },
  {
   "cell_type": "code",
   "execution_count": 163,
   "id": "43edca52",
   "metadata": {},
   "outputs": [
    {
     "data": {
      "text/plain": [
       "(15, 256, 256, 3)"
      ]
     },
     "execution_count": 163,
     "metadata": {},
     "output_type": "execute_result"
    }
   ],
   "source": [
    "x_train.shape"
   ]
  },
  {
   "cell_type": "code",
   "execution_count": 164,
   "id": "9a64e4d0",
   "metadata": {},
   "outputs": [],
   "source": [
    "cnn_model = Sequential()\n",
    "cnn_model.add(Conv2D(filters=32, kernel_size=(5,5), activation='relu', input_shape=x_train.shape[1:]))\n",
    "cnn_model.add(Conv2D(filters=32, kernel_size=(5,5), activation='relu'))\n",
    "cnn_model.add(MaxPooling2D(pool_size=(2, 2)))\n",
    "cnn_model.add(Dropout(rate=0.25))\n",
    "cnn_model.add(Conv2D(filters=64, kernel_size=(3, 3), activation='relu'))\n",
    "cnn_model.add(Conv2D(filters=64, kernel_size=(3, 3), activation='relu'))\n",
    "cnn_model.add(MaxPooling2D(pool_size=(2, 2)))\n",
    "cnn_model.add(Dropout(rate=0.25))\n",
    "cnn_model.add(Flatten())\n",
    "cnn_model.add(Dense(256, activation='relu'))\n",
    "cnn_model.add(Dropout(rate=0.5))\n",
    "cnn_model.add(Dense(3, activation='softmax'))\n",
    "# Here also we have changed above to 1 instead of previous 41\n",
    "\n",
    "#Compilation of the model\n",
    "cnn_model.compile(loss='categorical_crossentropy', optimizer='adam', metrics=['accuracy'])"
   ]
  },
  {
   "cell_type": "code",
   "execution_count": 165,
   "id": "3f54033c",
   "metadata": {},
   "outputs": [
    {
     "name": "stdout",
     "output_type": "stream",
     "text": [
      "Model: \"sequential_6\"\n",
      "_________________________________________________________________\n",
      "Layer (type)                 Output Shape              Param #   \n",
      "=================================================================\n",
      "conv2d_24 (Conv2D)           (None, 252, 252, 32)      2432      \n",
      "_________________________________________________________________\n",
      "conv2d_25 (Conv2D)           (None, 248, 248, 32)      25632     \n",
      "_________________________________________________________________\n",
      "max_pooling2d_12 (MaxPooling (None, 124, 124, 32)      0         \n",
      "_________________________________________________________________\n",
      "dropout_18 (Dropout)         (None, 124, 124, 32)      0         \n",
      "_________________________________________________________________\n",
      "conv2d_26 (Conv2D)           (None, 122, 122, 64)      18496     \n",
      "_________________________________________________________________\n",
      "conv2d_27 (Conv2D)           (None, 120, 120, 64)      36928     \n",
      "_________________________________________________________________\n",
      "max_pooling2d_13 (MaxPooling (None, 60, 60, 64)        0         \n",
      "_________________________________________________________________\n",
      "dropout_19 (Dropout)         (None, 60, 60, 64)        0         \n",
      "_________________________________________________________________\n",
      "flatten_6 (Flatten)          (None, 230400)            0         \n",
      "_________________________________________________________________\n",
      "dense_12 (Dense)             (None, 256)               58982656  \n",
      "_________________________________________________________________\n",
      "dropout_20 (Dropout)         (None, 256)               0         \n",
      "_________________________________________________________________\n",
      "dense_13 (Dense)             (None, 3)                 771       \n",
      "=================================================================\n",
      "Total params: 59,066,915\n",
      "Trainable params: 59,066,915\n",
      "Non-trainable params: 0\n",
      "_________________________________________________________________\n"
     ]
    }
   ],
   "source": [
    "cnn_model.summary()"
   ]
  },
  {
   "cell_type": "code",
   "execution_count": 166,
   "id": "d6938d66",
   "metadata": {},
   "outputs": [
    {
     "name": "stdout",
     "output_type": "stream",
     "text": [
      "Epoch 1/30\n",
      "1/1 - 6s - loss: 1.1182 - accuracy: 0.3333 - val_loss: 3.0974 - val_accuracy: 0.0000e+00\n",
      "Epoch 2/30\n",
      "1/1 - 4s - loss: 5.0650 - accuracy: 0.4667 - val_loss: 0.2123 - val_accuracy: 1.0000\n",
      "Epoch 3/30\n",
      "1/1 - 3s - loss: 4.0507 - accuracy: 0.3333 - val_loss: 0.9597 - val_accuracy: 0.0000e+00\n",
      "Epoch 4/30\n",
      "1/1 - 2s - loss: 1.4293 - accuracy: 0.5333 - val_loss: 1.0814 - val_accuracy: 0.0000e+00\n",
      "Epoch 5/30\n",
      "1/1 - 2s - loss: 0.9284 - accuracy: 0.5333 - val_loss: 1.1095 - val_accuracy: 0.0000e+00\n",
      "Epoch 6/30\n",
      "1/1 - 2s - loss: 0.9835 - accuracy: 0.9333 - val_loss: 1.0831 - val_accuracy: 1.0000\n",
      "Epoch 7/30\n",
      "1/1 - 2s - loss: 0.8251 - accuracy: 0.9333 - val_loss: 1.0352 - val_accuracy: 0.0000e+00\n",
      "Epoch 8/30\n",
      "1/1 - 2s - loss: 0.4625 - accuracy: 1.0000 - val_loss: 1.0175 - val_accuracy: 0.0000e+00\n",
      "Epoch 9/30\n",
      "1/1 - 2s - loss: 0.5015 - accuracy: 0.7333 - val_loss: 0.3663 - val_accuracy: 1.0000\n",
      "Epoch 10/30\n",
      "1/1 - 2s - loss: 0.3568 - accuracy: 0.9333 - val_loss: 0.2546 - val_accuracy: 1.0000\n",
      "Epoch 11/30\n",
      "1/1 - 2s - loss: 0.2843 - accuracy: 0.9333 - val_loss: 0.6966 - val_accuracy: 0.0000e+00\n",
      "Epoch 12/30\n",
      "1/1 - 2s - loss: 0.6101 - accuracy: 0.8667 - val_loss: 0.0645 - val_accuracy: 1.0000\n",
      "Epoch 13/30\n",
      "1/1 - 2s - loss: 0.1441 - accuracy: 0.8667 - val_loss: 0.0125 - val_accuracy: 1.0000\n",
      "Epoch 14/30\n",
      "1/1 - 2s - loss: 0.0638 - accuracy: 1.0000 - val_loss: 0.0064 - val_accuracy: 1.0000\n",
      "Epoch 15/30\n",
      "1/1 - 2s - loss: 0.0652 - accuracy: 1.0000 - val_loss: 0.0091 - val_accuracy: 1.0000\n",
      "Epoch 16/30\n",
      "1/1 - 2s - loss: 0.0430 - accuracy: 1.0000 - val_loss: 0.0205 - val_accuracy: 1.0000\n",
      "Epoch 17/30\n",
      "1/1 - 2s - loss: 0.0221 - accuracy: 1.0000 - val_loss: 0.0577 - val_accuracy: 1.0000\n",
      "Epoch 18/30\n",
      "1/1 - 2s - loss: 0.0108 - accuracy: 1.0000 - val_loss: 0.1386 - val_accuracy: 1.0000\n",
      "Epoch 19/30\n",
      "1/1 - 2s - loss: 0.0267 - accuracy: 1.0000 - val_loss: 0.2139 - val_accuracy: 1.0000\n",
      "Epoch 20/30\n",
      "1/1 - 2s - loss: 0.1019 - accuracy: 0.9333 - val_loss: 0.1490 - val_accuracy: 1.0000\n",
      "Epoch 21/30\n",
      "1/1 - 2s - loss: 0.0029 - accuracy: 1.0000 - val_loss: 0.1046 - val_accuracy: 1.0000\n",
      "Epoch 22/30\n",
      "1/1 - 2s - loss: 0.0014 - accuracy: 1.0000 - val_loss: 0.0765 - val_accuracy: 1.0000\n",
      "Epoch 23/30\n",
      "1/1 - 2s - loss: 0.0318 - accuracy: 1.0000 - val_loss: 0.0689 - val_accuracy: 1.0000\n",
      "Epoch 24/30\n",
      "1/1 - 2s - loss: 0.0167 - accuracy: 1.0000 - val_loss: 0.0667 - val_accuracy: 1.0000\n",
      "Epoch 25/30\n",
      "1/1 - 2s - loss: 0.0251 - accuracy: 1.0000 - val_loss: 0.0790 - val_accuracy: 1.0000\n",
      "Epoch 26/30\n",
      "1/1 - 2s - loss: 0.1202 - accuracy: 0.9333 - val_loss: 0.1778 - val_accuracy: 1.0000\n",
      "Epoch 27/30\n",
      "1/1 - 2s - loss: 0.0060 - accuracy: 1.0000 - val_loss: 0.4340 - val_accuracy: 1.0000\n",
      "Epoch 28/30\n",
      "1/1 - 2s - loss: 0.0025 - accuracy: 1.0000 - val_loss: 1.0242 - val_accuracy: 0.0000e+00\n",
      "Epoch 29/30\n",
      "1/1 - 2s - loss: 3.5871e-05 - accuracy: 1.0000 - val_loss: 1.9965 - val_accuracy: 0.0000e+00\n",
      "Epoch 30/30\n",
      "1/1 - 2s - loss: 0.1236 - accuracy: 0.9333 - val_loss: 0.1522 - val_accuracy: 1.0000\n"
     ]
    }
   ],
   "source": [
    "history=cnn_model.fit(\n",
    "    np.array(x_train), np.array(y_train), batch_size=512,\n",
    "    epochs=30, verbose=2,\n",
    "    validation_data=(np.array(x_valid),np.array(y_valid)),\n",
    ")"
   ]
  },
  {
   "cell_type": "code",
   "execution_count": 187,
   "id": "41feab79",
   "metadata": {},
   "outputs": [
    {
     "ename": "ImportError",
     "evalue": "`save_model` requires h5py.",
     "output_type": "error",
     "traceback": [
      "\u001b[1;31m---------------------------------------------------------------------------\u001b[0m",
      "\u001b[1;31mImportError\u001b[0m                               Traceback (most recent call last)",
      "Input \u001b[1;32mIn [187]\u001b[0m, in \u001b[0;36m<cell line: 1>\u001b[1;34m()\u001b[0m\n\u001b[1;32m----> 1\u001b[0m \u001b[43mcnn_model\u001b[49m\u001b[38;5;241;43m.\u001b[39;49m\u001b[43msave\u001b[49m\u001b[43m(\u001b[49m\u001b[38;5;124;43m'\u001b[39;49m\u001b[38;5;124;43mmy_model.h5\u001b[39;49m\u001b[38;5;124;43m'\u001b[39;49m\u001b[43m)\u001b[49m\n",
      "File \u001b[1;32mC:\\ProgramData\\Anaconda3\\envs\\tf\\lib\\site-packages\\keras\\engine\\training.py:2145\u001b[0m, in \u001b[0;36mModel.save\u001b[1;34m(self, filepath, overwrite, include_optimizer, save_format, signatures, options, save_traces)\u001b[0m\n\u001b[0;32m   2103\u001b[0m \u001b[38;5;124;03m\"\"\"Saves the model to Tensorflow SavedModel or a single HDF5 file.\u001b[39;00m\n\u001b[0;32m   2104\u001b[0m \n\u001b[0;32m   2105\u001b[0m \u001b[38;5;124;03mPlease see `tf.keras.models.save_model` or the\u001b[39;00m\n\u001b[1;32m   (...)\u001b[0m\n\u001b[0;32m   2142\u001b[0m \u001b[38;5;124;03m```\u001b[39;00m\n\u001b[0;32m   2143\u001b[0m \u001b[38;5;124;03m\"\"\"\u001b[39;00m\n\u001b[0;32m   2144\u001b[0m \u001b[38;5;66;03m# pylint: enable=line-too-long\u001b[39;00m\n\u001b[1;32m-> 2145\u001b[0m \u001b[43msave\u001b[49m\u001b[38;5;241;43m.\u001b[39;49m\u001b[43msave_model\u001b[49m\u001b[43m(\u001b[49m\u001b[38;5;28;43mself\u001b[39;49m\u001b[43m,\u001b[49m\u001b[43m \u001b[49m\u001b[43mfilepath\u001b[49m\u001b[43m,\u001b[49m\u001b[43m \u001b[49m\u001b[43moverwrite\u001b[49m\u001b[43m,\u001b[49m\u001b[43m \u001b[49m\u001b[43minclude_optimizer\u001b[49m\u001b[43m,\u001b[49m\u001b[43m \u001b[49m\u001b[43msave_format\u001b[49m\u001b[43m,\u001b[49m\n\u001b[0;32m   2146\u001b[0m \u001b[43m                \u001b[49m\u001b[43msignatures\u001b[49m\u001b[43m,\u001b[49m\u001b[43m \u001b[49m\u001b[43moptions\u001b[49m\u001b[43m,\u001b[49m\u001b[43m \u001b[49m\u001b[43msave_traces\u001b[49m\u001b[43m)\u001b[49m\n",
      "File \u001b[1;32mC:\\ProgramData\\Anaconda3\\envs\\tf\\lib\\site-packages\\keras\\saving\\save.py:145\u001b[0m, in \u001b[0;36msave_model\u001b[1;34m(model, filepath, overwrite, include_optimizer, save_format, signatures, options, save_traces)\u001b[0m\n\u001b[0;32m    136\u001b[0m   \u001b[38;5;28;01mif\u001b[39;00m (\u001b[38;5;129;01mnot\u001b[39;00m model\u001b[38;5;241m.\u001b[39m_is_graph_network \u001b[38;5;129;01mand\u001b[39;00m  \u001b[38;5;66;03m# pylint:disable=protected-access\u001b[39;00m\n\u001b[0;32m    137\u001b[0m       \u001b[38;5;129;01mnot\u001b[39;00m \u001b[38;5;28misinstance\u001b[39m(model, sequential\u001b[38;5;241m.\u001b[39mSequential)):\n\u001b[0;32m    138\u001b[0m     \u001b[38;5;28;01mraise\u001b[39;00m \u001b[38;5;167;01mNotImplementedError\u001b[39;00m(\n\u001b[0;32m    139\u001b[0m         \u001b[38;5;124m'\u001b[39m\u001b[38;5;124mSaving the model to HDF5 format requires the model to be a \u001b[39m\u001b[38;5;124m'\u001b[39m\n\u001b[0;32m    140\u001b[0m         \u001b[38;5;124m'\u001b[39m\u001b[38;5;124mFunctional model or a Sequential model. It does not work for \u001b[39m\u001b[38;5;124m'\u001b[39m\n\u001b[1;32m   (...)\u001b[0m\n\u001b[0;32m    143\u001b[0m         \u001b[38;5;124m'\u001b[39m\u001b[38;5;124mto the Tensorflow SavedModel format (by setting save_format=\u001b[39m\u001b[38;5;124m\"\u001b[39m\u001b[38;5;124mtf\u001b[39m\u001b[38;5;124m\"\u001b[39m\u001b[38;5;124m) \u001b[39m\u001b[38;5;124m'\u001b[39m\n\u001b[0;32m    144\u001b[0m         \u001b[38;5;124m'\u001b[39m\u001b[38;5;124mor using `save_weights`.\u001b[39m\u001b[38;5;124m'\u001b[39m)\n\u001b[1;32m--> 145\u001b[0m   \u001b[43mhdf5_format\u001b[49m\u001b[38;5;241;43m.\u001b[39;49m\u001b[43msave_model_to_hdf5\u001b[49m\u001b[43m(\u001b[49m\n\u001b[0;32m    146\u001b[0m \u001b[43m      \u001b[49m\u001b[43mmodel\u001b[49m\u001b[43m,\u001b[49m\u001b[43m \u001b[49m\u001b[43mfilepath\u001b[49m\u001b[43m,\u001b[49m\u001b[43m \u001b[49m\u001b[43moverwrite\u001b[49m\u001b[43m,\u001b[49m\u001b[43m \u001b[49m\u001b[43minclude_optimizer\u001b[49m\u001b[43m)\u001b[49m\n\u001b[0;32m    147\u001b[0m \u001b[38;5;28;01melse\u001b[39;00m:\n\u001b[0;32m    148\u001b[0m   \u001b[38;5;28;01mwith\u001b[39;00m generic_utils\u001b[38;5;241m.\u001b[39mSharedObjectSavingScope():\n",
      "File \u001b[1;32mC:\\ProgramData\\Anaconda3\\envs\\tf\\lib\\site-packages\\keras\\saving\\hdf5_format.py:79\u001b[0m, in \u001b[0;36msave_model_to_hdf5\u001b[1;34m(model, filepath, overwrite, include_optimizer)\u001b[0m\n\u001b[0;32m     53\u001b[0m \u001b[38;5;124;03m\"\"\"Saves a model to a HDF5 file.\u001b[39;00m\n\u001b[0;32m     54\u001b[0m \n\u001b[0;32m     55\u001b[0m \u001b[38;5;124;03mThe saved model contains:\u001b[39;00m\n\u001b[1;32m   (...)\u001b[0m\n\u001b[0;32m     75\u001b[0m \u001b[38;5;124;03m    ImportError: if h5py is not available.\u001b[39;00m\n\u001b[0;32m     76\u001b[0m \u001b[38;5;124;03m\"\"\"\u001b[39;00m\n\u001b[0;32m     78\u001b[0m \u001b[38;5;28;01mif\u001b[39;00m h5py \u001b[38;5;129;01mis\u001b[39;00m \u001b[38;5;28;01mNone\u001b[39;00m:\n\u001b[1;32m---> 79\u001b[0m   \u001b[38;5;28;01mraise\u001b[39;00m \u001b[38;5;167;01mImportError\u001b[39;00m(\u001b[38;5;124m'\u001b[39m\u001b[38;5;124m`save_model` requires h5py.\u001b[39m\u001b[38;5;124m'\u001b[39m)\n\u001b[0;32m     81\u001b[0m \u001b[38;5;66;03m# TODO(psv) Add warning when we save models that contain non-serializable\u001b[39;00m\n\u001b[0;32m     82\u001b[0m \u001b[38;5;66;03m# entities like metrics added using `add_metric` and losses added using\u001b[39;00m\n\u001b[0;32m     83\u001b[0m \u001b[38;5;66;03m# `add_loss.`\u001b[39;00m\n\u001b[0;32m     84\u001b[0m \u001b[38;5;28;01mif\u001b[39;00m \u001b[38;5;28mlen\u001b[39m(model\u001b[38;5;241m.\u001b[39mweights) \u001b[38;5;241m!=\u001b[39m \u001b[38;5;28mlen\u001b[39m(model\u001b[38;5;241m.\u001b[39m_undeduplicated_weights):\n",
      "\u001b[1;31mImportError\u001b[0m: `save_model` requires h5py."
     ]
    }
   ],
   "source": [
    "cnn_model.save('my_model.h5')"
   ]
  },
  {
   "cell_type": "code",
   "execution_count": 167,
   "id": "51e4815d",
   "metadata": {},
   "outputs": [
    {
     "name": "stdout",
     "output_type": "stream",
     "text": [
      "test los 0.0198\n",
      "test acc 1.0000\n"
     ]
    }
   ],
   "source": [
    "scor = cnn_model.evaluate( np.array(x_test),  np.array(y_test), verbose=0)\n",
    "\n",
    "print('test los {:.4f}'.format(scor[0]))\n",
    "print('test acc {:.4f}'.format(scor[1]))"
   ]
  },
  {
   "cell_type": "code",
   "execution_count": 168,
   "id": "91f7c0b2",
   "metadata": {},
   "outputs": [
    {
     "name": "stdout",
     "output_type": "stream",
     "text": [
      "dict_keys(['loss', 'accuracy', 'val_loss', 'val_accuracy'])\n"
     ]
    },
    {
     "data": {
      "image/png": "[encoded data removed]",
      "text/plain": [
       "<Figure size 432x288 with 1 Axes>"
      ]
     },
     "metadata": {
      "needs_background": "light"
     },
     "output_type": "display_data"
    },
    {
     "data": {
      "image/png": "[encoded data removed]",
      "text/plain": [
       "<Figure size 432x288 with 1 Axes>"
      ]
     },
     "metadata": {
      "needs_background": "light"
     },
     "output_type": "display_data"
    }
   ],
   "source": [
    "# list all data in history\n",
    "print(history.history.keys())\n",
    "# summarize history for accuracy\n",
    "plt.plot(history.history['accuracy'])\n",
    "plt.plot(history.history['val_accuracy'])\n",
    "plt.title('model accuracy')\n",
    "plt.ylabel('accuracy')\n",
    "plt.xlabel('epoch')\n",
    "plt.legend(['train', 'test'], loc='upper left')\n",
    "plt.show()\n",
    "# summarize history for loss\n",
    "plt.plot(history.history['loss'])\n",
    "plt.plot(history.history['val_loss'])\n",
    "plt.title('model loss')\n",
    "plt.ylabel('loss')\n",
    "plt.xlabel('epoch')\n",
    "plt.legend(['train', 'test'], loc='upper left')\n",
    "plt.show()"
   ]
  },
  {
   "cell_type": "code",
   "execution_count": 180,
   "id": "e6ba679f",
   "metadata": {},
   "outputs": [
    {
     "name": "stdout",
     "output_type": "stream",
     "text": [
      "[[1.0000000e+00 3.3339445e-09 6.6233219e-10]]\n"
     ]
    }
   ],
   "source": [
    "image=\"ImagesCropped/0/0.jpg\"\n",
    "image1=\"DataSet/2/0.jpg\"\n",
    "outside=\"V/0.jpg\"\n",
    "image=Image.open(outside)\n",
    "image=image.resize((256,256))\n",
    "image=np.array(image)\n",
    "image = np.array(image,dtype='float32')/255\n",
    "\n",
    "\n",
    "image= tf.expand_dims(image, axis =0)\n",
    "image.shape\n",
    "# print(image)\n",
    "ans=cnn_model.predict(image)\n",
    "print(ans)"
   ]
  }
 ],
 "metadata": {
  "kernelspec": {
   "display_name": "Python (tf)",
   "language": "python",
   "name": "tf"
  },
  "language_info": {
   "codemirror_mode": {
    "name": "ipython",
    "version": 3
   },
   "file_extension": ".py",
   "mimetype": "text/x-python",
   "name": "python",
   "nbconvert_exporter": "python",
   "pygments_lexer": "ipython3",
   "version": "3.9.12"
  }
 },
 "nbformat": 4,
 "nbformat_minor": 5
}
