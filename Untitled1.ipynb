{
 "cells": [
  {
   "cell_type": "code",
   "execution_count": 18,
   "id": "92e7a4a1",
   "metadata": {},
   "outputs": [
    {
     "data": {
      "text/plain": [
       "'1.2.4'"
      ]
     },
     "execution_count": 18,
     "metadata": {},
     "output_type": "execute_result"
    }
   ],
   "source": [
    "pd.__version__"
   ]
  },
  {
   "cell_type": "code",
   "execution_count": 2,
   "id": "91a23a91",
   "metadata": {
    "scrolled": true
   },
   "outputs": [
    {
     "name": "stdout",
     "output_type": "stream",
     "text": [
      "      Name Mobile Number\n",
      "0    Vaish    9987176645\n",
      "1    Shlok    8467263272\n",
      "2  Vishesh    3456344542\n",
      "3    Ruben     875637289\n",
      "4    Ruben     875637289\n",
      "5    Ruben     875637289\n"
     ]
    }
   ],
   "source": [
    "import pandas as pd\n",
    "\n",
    "# name=input(\"Enter Name\")\n",
    "# number= input(\"Enter Number\")\n",
    "info=pd.read_csv(\"Info.csv\",index_col=\"sr\").astype(str)\n",
    "info=info.dropna()\n",
    "lst={\"Name\":\"Ruben\",\"Mobile Number\":\"875637289\"}\n",
    "info=info.append(lst,ignore_index=True)\n",
    "info.reset_index().rename(columns={\"index\":\"sr\"}).to_csv(\"Info.csv\", index=False)\n",
    "# print(info)"
   ]
  }
 ],
 "metadata": {
  "kernelspec": {
   "display_name": "Python 3",
   "language": "python",
   "name": "python3"
  },
  "language_info": {
   "codemirror_mode": {
    "name": "ipython",
    "version": 3
   },
   "file_extension": ".py",
   "mimetype": "text/x-python",
   "name": "python",
   "nbconvert_exporter": "python",
   "pygments_lexer": "ipython3",
   "version": "3.8.8"
  }
 },
 "nbformat": 4,
 "nbformat_minor": 5
}
